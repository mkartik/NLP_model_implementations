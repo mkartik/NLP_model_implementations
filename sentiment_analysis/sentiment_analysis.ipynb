{
 "cells": [
  {
   "cell_type": "code",
   "execution_count": 1,
   "metadata": {
    "colab": {
     "base_uri": "https://localhost:8080/",
     "height": 901
    },
    "colab_type": "code",
    "id": "YORUfwGRAJEA",
    "outputId": "c554cd5c-a8f6-49d8-d37e-2cc447dbb365"
   },
   "outputs": [
    {
     "name": "stdout",
     "output_type": "stream",
     "text": [
      "Collecting transformers\n",
      "\u001b[?25l  Downloading https://files.pythonhosted.org/packages/48/35/ad2c5b1b8f99feaaf9d7cdadaeef261f098c6e1a6a2935d4d07662a6b780/transformers-2.11.0-py3-none-any.whl (674kB)\n",
      "\r",
      "\u001b[K     |▌                               | 10kB 25.7MB/s eta 0:00:01\r",
      "\u001b[K     |█                               | 20kB 5.4MB/s eta 0:00:01\r",
      "\u001b[K     |█▌                              | 30kB 6.7MB/s eta 0:00:01\r",
      "\u001b[K     |██                              | 40kB 7.6MB/s eta 0:00:01\r",
      "\u001b[K     |██▍                             | 51kB 6.4MB/s eta 0:00:01\r",
      "\u001b[K     |███                             | 61kB 7.3MB/s eta 0:00:01\r",
      "\u001b[K     |███▍                            | 71kB 7.5MB/s eta 0:00:01\r",
      "\u001b[K     |███▉                            | 81kB 8.0MB/s eta 0:00:01\r",
      "\u001b[K     |████▍                           | 92kB 8.2MB/s eta 0:00:01\r",
      "\u001b[K     |████▉                           | 102kB 8.5MB/s eta 0:00:01\r",
      "\u001b[K     |█████▍                          | 112kB 8.5MB/s eta 0:00:01\r",
      "\u001b[K     |█████▉                          | 122kB 8.5MB/s eta 0:00:01\r",
      "\u001b[K     |██████▎                         | 133kB 8.5MB/s eta 0:00:01\r",
      "\u001b[K     |██████▉                         | 143kB 8.5MB/s eta 0:00:01\r",
      "\u001b[K     |███████▎                        | 153kB 8.5MB/s eta 0:00:01\r",
      "\u001b[K     |███████▊                        | 163kB 8.5MB/s eta 0:00:01\r",
      "\u001b[K     |████████▎                       | 174kB 8.5MB/s eta 0:00:01\r",
      "\u001b[K     |████████▊                       | 184kB 8.5MB/s eta 0:00:01\r",
      "\u001b[K     |█████████▎                      | 194kB 8.5MB/s eta 0:00:01\r",
      "\u001b[K     |█████████▊                      | 204kB 8.5MB/s eta 0:00:01\r",
      "\u001b[K     |██████████▏                     | 215kB 8.5MB/s eta 0:00:01\r",
      "\u001b[K     |██████████▊                     | 225kB 8.5MB/s eta 0:00:01\r",
      "\u001b[K     |███████████▏                    | 235kB 8.5MB/s eta 0:00:01\r",
      "\u001b[K     |███████████▋                    | 245kB 8.5MB/s eta 0:00:01\r",
      "\u001b[K     |████████████▏                   | 256kB 8.5MB/s eta 0:00:01\r",
      "\u001b[K     |████████████▋                   | 266kB 8.5MB/s eta 0:00:01\r",
      "\u001b[K     |█████████████                   | 276kB 8.5MB/s eta 0:00:01\r",
      "\u001b[K     |█████████████▋                  | 286kB 8.5MB/s eta 0:00:01\r",
      "\u001b[K     |██████████████                  | 296kB 8.5MB/s eta 0:00:01\r",
      "\u001b[K     |██████████████▋                 | 307kB 8.5MB/s eta 0:00:01\r",
      "\u001b[K     |███████████████                 | 317kB 8.5MB/s eta 0:00:01\r",
      "\u001b[K     |███████████████▌                | 327kB 8.5MB/s eta 0:00:01\r",
      "\u001b[K     |████████████████                | 337kB 8.5MB/s eta 0:00:01\r",
      "\u001b[K     |████████████████▌               | 348kB 8.5MB/s eta 0:00:01\r",
      "\u001b[K     |█████████████████               | 358kB 8.5MB/s eta 0:00:01\r",
      "\u001b[K     |█████████████████▌              | 368kB 8.5MB/s eta 0:00:01\r",
      "\u001b[K     |██████████████████              | 378kB 8.5MB/s eta 0:00:01\r",
      "\u001b[K     |██████████████████▌             | 389kB 8.5MB/s eta 0:00:01\r",
      "\u001b[K     |███████████████████             | 399kB 8.5MB/s eta 0:00:01\r",
      "\u001b[K     |███████████████████▍            | 409kB 8.5MB/s eta 0:00:01\r",
      "\u001b[K     |████████████████████            | 419kB 8.5MB/s eta 0:00:01\r",
      "\u001b[K     |████████████████████▍           | 430kB 8.5MB/s eta 0:00:01\r",
      "\u001b[K     |████████████████████▉           | 440kB 8.5MB/s eta 0:00:01\r",
      "\u001b[K     |█████████████████████▍          | 450kB 8.5MB/s eta 0:00:01\r",
      "\u001b[K     |█████████████████████▉          | 460kB 8.5MB/s eta 0:00:01\r",
      "\u001b[K     |██████████████████████▍         | 471kB 8.5MB/s eta 0:00:01\r",
      "\u001b[K     |██████████████████████▉         | 481kB 8.5MB/s eta 0:00:01\r",
      "\u001b[K     |███████████████████████▎        | 491kB 8.5MB/s eta 0:00:01\r",
      "\u001b[K     |███████████████████████▉        | 501kB 8.5MB/s eta 0:00:01\r",
      "\u001b[K     |████████████████████████▎       | 512kB 8.5MB/s eta 0:00:01\r",
      "\u001b[K     |████████████████████████▊       | 522kB 8.5MB/s eta 0:00:01\r",
      "\u001b[K     |█████████████████████████▎      | 532kB 8.5MB/s eta 0:00:01\r",
      "\u001b[K     |█████████████████████████▊      | 542kB 8.5MB/s eta 0:00:01\r",
      "\u001b[K     |██████████████████████████▏     | 552kB 8.5MB/s eta 0:00:01\r",
      "\u001b[K     |██████████████████████████▊     | 563kB 8.5MB/s eta 0:00:01\r",
      "\u001b[K     |███████████████████████████▏    | 573kB 8.5MB/s eta 0:00:01\r",
      "\u001b[K     |███████████████████████████▊    | 583kB 8.5MB/s eta 0:00:01\r",
      "\u001b[K     |████████████████████████████▏   | 593kB 8.5MB/s eta 0:00:01\r",
      "\u001b[K     |████████████████████████████▋   | 604kB 8.5MB/s eta 0:00:01\r",
      "\u001b[K     |█████████████████████████████▏  | 614kB 8.5MB/s eta 0:00:01\r",
      "\u001b[K     |█████████████████████████████▋  | 624kB 8.5MB/s eta 0:00:01\r",
      "\u001b[K     |██████████████████████████████  | 634kB 8.5MB/s eta 0:00:01\r",
      "\u001b[K     |██████████████████████████████▋ | 645kB 8.5MB/s eta 0:00:01\r",
      "\u001b[K     |███████████████████████████████ | 655kB 8.5MB/s eta 0:00:01\r",
      "\u001b[K     |███████████████████████████████▋| 665kB 8.5MB/s eta 0:00:01\r",
      "\u001b[K     |████████████████████████████████| 675kB 8.5MB/s \n",
      "\u001b[?25hRequirement already satisfied: packaging in /usr/local/lib/python3.6/dist-packages (from transformers) (20.4)\n",
      "Requirement already satisfied: numpy in /usr/local/lib/python3.6/dist-packages (from transformers) (1.18.5)\n",
      "Requirement already satisfied: regex!=2019.12.17 in /usr/local/lib/python3.6/dist-packages (from transformers) (2019.12.20)\n",
      "Requirement already satisfied: filelock in /usr/local/lib/python3.6/dist-packages (from transformers) (3.0.12)\n",
      "Requirement already satisfied: tqdm>=4.27 in /usr/local/lib/python3.6/dist-packages (from transformers) (4.41.1)\n",
      "Requirement already satisfied: dataclasses; python_version < \"3.7\" in /usr/local/lib/python3.6/dist-packages (from transformers) (0.7)\n",
      "Collecting sentencepiece\n",
      "\u001b[?25l  Downloading https://files.pythonhosted.org/packages/d4/a4/d0a884c4300004a78cca907a6ff9a5e9fe4f090f5d95ab341c53d28cbc58/sentencepiece-0.1.91-cp36-cp36m-manylinux1_x86_64.whl (1.1MB)\n",
      "\u001b[K     |████████████████████████████████| 1.1MB 43.4MB/s \n",
      "\u001b[?25hCollecting tokenizers==0.7.0\n",
      "\u001b[?25l  Downloading https://files.pythonhosted.org/packages/14/e5/a26eb4716523808bb0a799fcfdceb6ebf77a18169d9591b2f46a9adb87d9/tokenizers-0.7.0-cp36-cp36m-manylinux1_x86_64.whl (3.8MB)\n",
      "\u001b[K     |████████████████████████████████| 3.8MB 29.2MB/s \n",
      "\u001b[?25hCollecting sacremoses\n",
      "\u001b[?25l  Downloading https://files.pythonhosted.org/packages/7d/34/09d19aff26edcc8eb2a01bed8e98f13a1537005d31e95233fd48216eed10/sacremoses-0.0.43.tar.gz (883kB)\n",
      "\u001b[K     |████████████████████████████████| 890kB 62.3MB/s \n",
      "\u001b[?25hRequirement already satisfied: requests in /usr/local/lib/python3.6/dist-packages (from transformers) (2.23.0)\n",
      "Requirement already satisfied: pyparsing>=2.0.2 in /usr/local/lib/python3.6/dist-packages (from packaging->transformers) (2.4.7)\n",
      "Requirement already satisfied: six in /usr/local/lib/python3.6/dist-packages (from packaging->transformers) (1.12.0)\n",
      "Requirement already satisfied: click in /usr/local/lib/python3.6/dist-packages (from sacremoses->transformers) (7.1.2)\n",
      "Requirement already satisfied: joblib in /usr/local/lib/python3.6/dist-packages (from sacremoses->transformers) (0.15.1)\n",
      "Requirement already satisfied: idna<3,>=2.5 in /usr/local/lib/python3.6/dist-packages (from requests->transformers) (2.9)\n",
      "Requirement already satisfied: urllib3!=1.25.0,!=1.25.1,<1.26,>=1.21.1 in /usr/local/lib/python3.6/dist-packages (from requests->transformers) (1.24.3)\n",
      "Requirement already satisfied: certifi>=2017.4.17 in /usr/local/lib/python3.6/dist-packages (from requests->transformers) (2020.6.20)\n",
      "Requirement already satisfied: chardet<4,>=3.0.2 in /usr/local/lib/python3.6/dist-packages (from requests->transformers) (3.0.4)\n",
      "Building wheels for collected packages: sacremoses\n",
      "  Building wheel for sacremoses (setup.py) ... \u001b[?25l\u001b[?25hdone\n",
      "  Created wheel for sacremoses: filename=sacremoses-0.0.43-cp36-none-any.whl size=893260 sha256=e434a04f42fbc6602c5afde2ac61640c3501d438028fed65c27dd6080ba49d68\n",
      "  Stored in directory: /root/.cache/pip/wheels/29/3c/fd/7ce5c3f0666dab31a50123635e6fb5e19ceb42ce38d4e58f45\n",
      "Successfully built sacremoses\n",
      "Installing collected packages: sentencepiece, tokenizers, sacremoses, transformers\n",
      "Successfully installed sacremoses-0.0.43 sentencepiece-0.1.91 tokenizers-0.7.0 transformers-2.11.0\n",
      "--2020-06-29 01:13:35--  http://cs.stanford.edu/people/alecmgo/trainingandtestdata.zip\n",
      "Resolving cs.stanford.edu (cs.stanford.edu)... 171.64.64.64\n",
      "Connecting to cs.stanford.edu (cs.stanford.edu)|171.64.64.64|:80... connected.\n",
      "HTTP request sent, awaiting response... 301 Moved Permanently\n",
      "Location: https://cs.stanford.edu/people/alecmgo/trainingandtestdata.zip [following]\n",
      "--2020-06-29 01:13:36--  https://cs.stanford.edu/people/alecmgo/trainingandtestdata.zip\n",
      "Connecting to cs.stanford.edu (cs.stanford.edu)|171.64.64.64|:443... connected.\n",
      "HTTP request sent, awaiting response... 200 OK\n",
      "Length: 81363704 (78M) [application/zip]\n",
      "Saving to: ‘trainingandtestdata.zip’\n",
      "\n",
      "trainingandtestdata 100%[===================>]  77.59M  20.2MB/s    in 4.8s    \n",
      "\n",
      "2020-06-29 01:13:41 (16.0 MB/s) - ‘trainingandtestdata.zip’ saved [81363704/81363704]\n",
      "\n",
      "Archive:  trainingandtestdata.zip\n",
      "  inflating: testdata.manual.2009.06.14.csv  \n",
      "  inflating: training.1600000.processed.noemoticon.csv  \n"
     ]
    }
   ],
   "source": [
    "!pip install transformers\n",
    "!wget -nc http://cs.stanford.edu/people/alecmgo/trainingandtestdata.zip\n",
    "!unzip trainingandtestdata.zip"
   ]
  },
  {
   "cell_type": "code",
   "execution_count": 2,
   "metadata": {
    "colab": {
     "base_uri": "https://localhost:8080/",
     "height": 51
    },
    "colab_type": "code",
    "id": "_sVTPN-yBWTu",
    "outputId": "47a89ac7-5cf9-4ddd-f04b-a27bc7cdd3ef"
   },
   "outputs": [
    {
     "name": "stderr",
     "output_type": "stream",
     "text": [
      "/usr/local/lib/python3.6/dist-packages/statsmodels/tools/_testing.py:19: FutureWarning: pandas.util.testing is deprecated. Use the functions in the public API at pandas.testing instead.\n",
      "  import pandas.util.testing as tm\n"
     ]
    }
   ],
   "source": [
    "from transformers import BertModel, BertTokenizer, AdamW, get_linear_schedule_with_warmup\n",
    "import matplotlib.pyplot as plt\n",
    "from torch.utils.data import Dataset, DataLoader\n",
    "from sklearn.model_selection import train_test_split\n",
    "from sklearn.metrics import confusion_matrix, classification_report\n",
    "from collections import defaultdict\n",
    "from nltk.tokenize import RegexpTokenizer\n",
    "import torch\n",
    "import html\n",
    "import re\n",
    "from torch import nn, optim\n",
    "import seaborn as sns\n",
    "import pandas as pd"
   ]
  },
  {
   "cell_type": "code",
   "execution_count": 3,
   "metadata": {
    "colab": {},
    "colab_type": "code",
    "id": "hUtnASdFkmUm"
   },
   "outputs": [],
   "source": [
    "df = pd.read_csv('training.1600000.processed.noemoticon.csv', header=None, names=['polarity','id','date','query','user','tweet'], encoding='latin-1')"
   ]
  },
  {
   "cell_type": "code",
   "execution_count": 4,
   "metadata": {
    "colab": {
     "base_uri": "https://localhost:8080/",
     "height": 204
    },
    "colab_type": "code",
    "id": "jS2GvIj6lKC4",
    "outputId": "17e3cb45-d571-4ea0-ad08-8ee1bf2f5f4d"
   },
   "outputs": [
    {
     "data": {
      "text/html": [
       "<div>\n",
       "<style scoped>\n",
       "    .dataframe tbody tr th:only-of-type {\n",
       "        vertical-align: middle;\n",
       "    }\n",
       "\n",
       "    .dataframe tbody tr th {\n",
       "        vertical-align: top;\n",
       "    }\n",
       "\n",
       "    .dataframe thead th {\n",
       "        text-align: right;\n",
       "    }\n",
       "</style>\n",
       "<table border=\"1\" class=\"dataframe\">\n",
       "  <thead>\n",
       "    <tr style=\"text-align: right;\">\n",
       "      <th></th>\n",
       "      <th>polarity</th>\n",
       "      <th>id</th>\n",
       "      <th>date</th>\n",
       "      <th>query</th>\n",
       "      <th>user</th>\n",
       "      <th>tweet</th>\n",
       "    </tr>\n",
       "  </thead>\n",
       "  <tbody>\n",
       "    <tr>\n",
       "      <th>0</th>\n",
       "      <td>0</td>\n",
       "      <td>1467810369</td>\n",
       "      <td>Mon Apr 06 22:19:45 PDT 2009</td>\n",
       "      <td>NO_QUERY</td>\n",
       "      <td>_TheSpecialOne_</td>\n",
       "      <td>@switchfoot http://twitpic.com/2y1zl - Awww, t...</td>\n",
       "    </tr>\n",
       "    <tr>\n",
       "      <th>1</th>\n",
       "      <td>0</td>\n",
       "      <td>1467810672</td>\n",
       "      <td>Mon Apr 06 22:19:49 PDT 2009</td>\n",
       "      <td>NO_QUERY</td>\n",
       "      <td>scotthamilton</td>\n",
       "      <td>is upset that he can't update his Facebook by ...</td>\n",
       "    </tr>\n",
       "    <tr>\n",
       "      <th>2</th>\n",
       "      <td>0</td>\n",
       "      <td>1467810917</td>\n",
       "      <td>Mon Apr 06 22:19:53 PDT 2009</td>\n",
       "      <td>NO_QUERY</td>\n",
       "      <td>mattycus</td>\n",
       "      <td>@Kenichan I dived many times for the ball. Man...</td>\n",
       "    </tr>\n",
       "    <tr>\n",
       "      <th>3</th>\n",
       "      <td>0</td>\n",
       "      <td>1467811184</td>\n",
       "      <td>Mon Apr 06 22:19:57 PDT 2009</td>\n",
       "      <td>NO_QUERY</td>\n",
       "      <td>ElleCTF</td>\n",
       "      <td>my whole body feels itchy and like its on fire</td>\n",
       "    </tr>\n",
       "    <tr>\n",
       "      <th>4</th>\n",
       "      <td>0</td>\n",
       "      <td>1467811193</td>\n",
       "      <td>Mon Apr 06 22:19:57 PDT 2009</td>\n",
       "      <td>NO_QUERY</td>\n",
       "      <td>Karoli</td>\n",
       "      <td>@nationwideclass no, it's not behaving at all....</td>\n",
       "    </tr>\n",
       "  </tbody>\n",
       "</table>\n",
       "</div>"
      ],
      "text/plain": [
       "   polarity  ...                                              tweet\n",
       "0         0  ...  @switchfoot http://twitpic.com/2y1zl - Awww, t...\n",
       "1         0  ...  is upset that he can't update his Facebook by ...\n",
       "2         0  ...  @Kenichan I dived many times for the ball. Man...\n",
       "3         0  ...    my whole body feels itchy and like its on fire \n",
       "4         0  ...  @nationwideclass no, it's not behaving at all....\n",
       "\n",
       "[5 rows x 6 columns]"
      ]
     },
     "execution_count": 4,
     "metadata": {
      "tags": []
     },
     "output_type": "execute_result"
    }
   ],
   "source": [
    "df.head()"
   ]
  },
  {
   "cell_type": "code",
   "execution_count": 6,
   "metadata": {
    "colab": {},
    "colab_type": "code",
    "id": "VGnJLXiS103O"
   },
   "outputs": [],
   "source": [
    "def update_polarity(polarity):\n",
    "  if polarity==0:\n",
    "    return 0\n",
    "  else:\n",
    "    return 1"
   ]
  },
  {
   "cell_type": "code",
   "execution_count": 7,
   "metadata": {
    "colab": {},
    "colab_type": "code",
    "id": "t8_P2CNA8Q94"
   },
   "outputs": [],
   "source": [
    "def preprocess_tweet(text):\n",
    "  # remove HTML tags\n",
    "  def remove_html_tags(sentence):\n",
    "    sentence = html.unescape(sentence)\n",
    "    sentence = sentence.replace(\"\\\\\",\"\")\n",
    "    sentence = sentence.replace(\"\\r\",\" \")\n",
    "    sentence = sentence.replace(\"\\n\",\" \")\n",
    "\n",
    "    p = re.compile(r'\\/\\w+\\/')\n",
    "    sentence = re.sub(p,' ',sentence)\n",
    "\n",
    "    p = re.compile('<.*?>')\n",
    "    sentence= re.sub(p, ' ', str(sentence))\n",
    "\n",
    "    sentence = re.sub(r'http\\S+', '', sentence)\n",
    "    return sentence\n",
    "  \n",
    "  text = remove_html_tags(text)\n",
    "\n",
    "  #remove @ Instances\n",
    "  p = re.compile('@.*?\\s+')\n",
    "  text = re.sub(p, '', text)\n",
    "\n",
    "  return text\n"
   ]
  },
  {
   "cell_type": "code",
   "execution_count": 8,
   "metadata": {
    "colab": {},
    "colab_type": "code",
    "id": "PVwiW0au1_PF"
   },
   "outputs": [],
   "source": [
    "df['polarity'] = df.polarity.apply(update_polarity)\n",
    "df['tweet'] = df.tweet.apply(preprocess_tweet)"
   ]
  },
  {
   "cell_type": "code",
   "execution_count": 9,
   "metadata": {
    "colab": {},
    "colab_type": "code",
    "id": "aX-yIEnondKy"
   },
   "outputs": [],
   "source": [
    "# Sampling 70000 entries (resource constraints)\n",
    "df=df.sample(100000)"
   ]
  },
  {
   "cell_type": "code",
   "execution_count": 10,
   "metadata": {
    "colab": {
     "base_uri": "https://localhost:8080/",
     "height": 296
    },
    "colab_type": "code",
    "id": "6rSVC-rxlQy2",
    "outputId": "98e3824a-7da7-47a4-c832-e16cf9843948"
   },
   "outputs": [
    {
     "data": {
      "text/plain": [
       "[Text(0, 0, 'negative'), Text(0, 0, 'positive')]"
      ]
     },
     "execution_count": 10,
     "metadata": {
      "tags": []
     },
     "output_type": "execute_result"
    },
    {
     "data": {
      "image/png": "[encoded data removed]",
      "text/plain": [
       "<Figure size 432x288 with 1 Axes>"
      ]
     },
     "metadata": {
      "needs_background": "light",
      "tags": []
     },
     "output_type": "display_data"
    }
   ],
   "source": [
    "r = sns.countplot(df.polarity)\n",
    "r.set_xticklabels(['negative','positive'])"
   ]
  },
  {
   "cell_type": "code",
   "execution_count": 11,
   "metadata": {
    "colab": {
     "base_uri": "https://localhost:8080/",
     "height": 66,
     "referenced_widgets": [
      "64d5fe6b298c4634bbd4550006796f98",
      "01cade803b06472796db20129803f67a",
      "075e47ab208b41b2b55268ab360c7a2f",
      "acc2edba3ef9433fb3444e8fb3f89230",
      "97c316dfa2864e84b37058761d51ed4f",
      "b5d47328c315473e9f59312a6040a1e6",
      "a7cc660f08d342eaa11349cb6a846ed1",
      "56e29a23f7e2473595d31b71d095c5ad"
     ]
    },
    "colab_type": "code",
    "id": "G54yGQjal6KA",
    "outputId": "53652437-6ebf-4ba4-e704-e6280c904e2b"
   },
   "outputs": [
    {
     "data": {
      "application/vnd.jupyter.widget-view+json": {
       "model_id": "64d5fe6b298c4634bbd4550006796f98",
       "version_major": 2,
       "version_minor": 0
      },
      "text/plain": [
       "HBox(children=(FloatProgress(value=0.0, description='Downloading', max=213450.0, style=ProgressStyle(descripti…"
      ]
     },
     "metadata": {
      "tags": []
     },
     "output_type": "display_data"
    },
    {
     "name": "stdout",
     "output_type": "stream",
     "text": [
      "\n"
     ]
    }
   ],
   "source": [
    "tokenizer = BertTokenizer.from_pretrained('bert-base-cased')"
   ]
  },
  {
   "cell_type": "code",
   "execution_count": 12,
   "metadata": {
    "colab": {},
    "colab_type": "code",
    "id": "_nA0Fu7WnC7j"
   },
   "outputs": [],
   "source": [
    "token_length = []\n",
    "for text in df.tweet:\n",
    "  tokens = tokenizer.tokenize(text)\n",
    "  token_length.append(len(tokens))"
   ]
  },
  {
   "cell_type": "code",
   "execution_count": 13,
   "metadata": {
    "colab": {
     "base_uri": "https://localhost:8080/",
     "height": 296
    },
    "colab_type": "code",
    "id": "lLa-UDoHn9g5",
    "outputId": "277fe7a7-c7a3-4ba4-a30b-2945a50f241d"
   },
   "outputs": [
    {
     "data": {
      "text/plain": [
       "Text(0.5, 0, 'token count')"
      ]
     },
     "execution_count": 13,
     "metadata": {
      "tags": []
     },
     "output_type": "execute_result"
    },
    {
     "data": {
      "image/png": "[encoded data removed]",
      "text/plain": [
       "<Figure size 432x288 with 1 Axes>"
      ]
     },
     "metadata": {
      "needs_background": "light",
      "tags": []
     },
     "output_type": "display_data"
    }
   ],
   "source": [
    "sns.distplot(token_length)\n",
    "plt.xlabel('token count')"
   ]
  },
  {
   "cell_type": "code",
   "execution_count": 22,
   "metadata": {
    "colab": {},
    "colab_type": "code",
    "id": "XsF_FOYEocpv"
   },
   "outputs": [],
   "source": [
    "MAX_LEN = 60\n",
    "BATCH_SIZE = 128\n",
    "NUM_EPOCHS = 10\n",
    "NUM_CLASSES = 2"
   ]
  },
  {
   "cell_type": "code",
   "execution_count": 15,
   "metadata": {
    "colab": {},
    "colab_type": "code",
    "id": "Br7fqS6Coqpe"
   },
   "outputs": [],
   "source": [
    "class TweetDataset(Dataset):\n",
    "  def __init__(self, tweet, polarity, tokenizer, max_seq_length):\n",
    "    self.tweets = tweet\n",
    "    self.polarities = polarity\n",
    "    self.tokenizer = tokenizer\n",
    "    self.max_seq_length = max_seq_length\n",
    "\n",
    "  def __len__(self):\n",
    "    return len(self.tweets) \n",
    "\n",
    "  def __getitem__(self, idx):\n",
    "    tweet = self.tweets[idx]\n",
    "    polarity = self.polarities[idx]\n",
    "\n",
    "    enc = tokenizer.encode_plus(tweet, add_special_tokens=True, max_length=self.max_seq_length, return_token_type_ids=False, return_attention_mask=True, \n",
    "                                      pad_to_max_length=True,return_tensors='pt')\n",
    "    return {\n",
    "        'input_ids': enc['input_ids'].flatten(),\n",
    "        'attention_mask': enc['attention_mask'].flatten(),\n",
    "        'tweet': tweet,\n",
    "        'polarity': torch.tensor(polarity, dtype=torch.long)\n",
    "    }\n"
   ]
  },
  {
   "cell_type": "code",
   "execution_count": 17,
   "metadata": {
    "colab": {},
    "colab_type": "code",
    "id": "enWzIeu3rCFr"
   },
   "outputs": [],
   "source": [
    "df_train, df_val = train_test_split(df, test_size=0.2)\n",
    "df_val, df_test = train_test_split(df_val, test_size=0.5)"
   ]
  },
  {
   "cell_type": "code",
   "execution_count": 18,
   "metadata": {
    "colab": {},
    "colab_type": "code",
    "id": "R16Gm0QRrfQh"
   },
   "outputs": [],
   "source": [
    "def create_data_loader(df, tokenizer, max_length, batch_size):\n",
    "  dataset = TweetDataset(df.tweet.to_numpy(), df.polarity.to_numpy(), tokenizer, MAX_LEN)\n",
    "  return DataLoader(dataset, batch_size=batch_size, num_workers=4)\n"
   ]
  },
  {
   "cell_type": "code",
   "execution_count": 19,
   "metadata": {
    "colab": {},
    "colab_type": "code",
    "id": "-jzIxIgisfhO"
   },
   "outputs": [],
   "source": [
    "train_dataloader = create_data_loader(df_train, tokenizer, MAX_LEN, BATCH_SIZE)\n",
    "test_dataloader = create_data_loader(df_test, tokenizer, MAX_LEN, BATCH_SIZE)\n",
    "val_dataloader = create_data_loader(df_val, tokenizer, MAX_LEN, BATCH_SIZE)"
   ]
  },
  {
   "cell_type": "code",
   "execution_count": 20,
   "metadata": {
    "colab": {
     "base_uri": "https://localhost:8080/",
     "height": 115,
     "referenced_widgets": [
      "67ef77e0abc5464199bbcbd330cea9e9",
      "a87af4d46d074906b7f725cb0b421703",
      "a724bdb13ca4493dbb3502c03ed78547",
      "016f9e02189d43a4a686b1a386c50bfd",
      "46548e591a2a4e7c93a6d362998a7492",
      "cf8d6fe037ff4a6fadd200a09efd9528",
      "30a4e65c447d4719b5abf9f054f20faa",
      "0a95380bc4244c0389103fbe90e49cbb",
      "8b296aa3cc7b4b02aec2226998ff6af5",
      "11b027af4dcb490db1871ba4af5e5342",
      "f00a20da67c2430d9c932efbfe5d70e8",
      "b8f50cea40d4476db16534a8338c8e72",
      "8dc5b53f874b4cef817cf7f62bb3ad68",
      "dd60d170b58049d8880b7d2cd5bb6a88",
      "cf5fdf07dec04a1c9ee01b2890444618",
      "7bddfdb49adf4f98b61cb8291ebab486"
     ]
    },
    "colab_type": "code",
    "id": "KUV_FoCvt3aD",
    "outputId": "417651c9-fa0c-43b0-f584-0f6b747b08af"
   },
   "outputs": [
    {
     "data": {
      "application/vnd.jupyter.widget-view+json": {
       "model_id": "67ef77e0abc5464199bbcbd330cea9e9",
       "version_major": 2,
       "version_minor": 0
      },
      "text/plain": [
       "HBox(children=(FloatProgress(value=0.0, description='Downloading', max=433.0, style=ProgressStyle(description_…"
      ]
     },
     "metadata": {
      "tags": []
     },
     "output_type": "display_data"
    },
    {
     "name": "stdout",
     "output_type": "stream",
     "text": [
      "\n"
     ]
    },
    {
     "data": {
      "application/vnd.jupyter.widget-view+json": {
       "model_id": "8b296aa3cc7b4b02aec2226998ff6af5",
       "version_major": 2,
       "version_minor": 0
      },
      "text/plain": [
       "HBox(children=(FloatProgress(value=0.0, description='Downloading', max=435779157.0, style=ProgressStyle(descri…"
      ]
     },
     "metadata": {
      "tags": []
     },
     "output_type": "display_data"
    },
    {
     "name": "stdout",
     "output_type": "stream",
     "text": [
      "\n"
     ]
    }
   ],
   "source": [
    "# Create Sentiment Classifier\n",
    "bert_model = BertModel.from_pretrained('bert-base-cased')"
   ]
  },
  {
   "cell_type": "code",
   "execution_count": 21,
   "metadata": {
    "colab": {
     "base_uri": "https://localhost:8080/",
     "height": 340
    },
    "colab_type": "code",
    "id": "uIEsYIHnvTIw",
    "outputId": "7e840b3f-a047-4592-da77-282ebeb246e3"
   },
   "outputs": [
    {
     "data": {
      "text/plain": [
       "BertConfig {\n",
       "  \"architectures\": [\n",
       "    \"BertForMaskedLM\"\n",
       "  ],\n",
       "  \"attention_probs_dropout_prob\": 0.1,\n",
       "  \"hidden_act\": \"gelu\",\n",
       "  \"hidden_dropout_prob\": 0.1,\n",
       "  \"hidden_size\": 768,\n",
       "  \"initializer_range\": 0.02,\n",
       "  \"intermediate_size\": 3072,\n",
       "  \"layer_norm_eps\": 1e-12,\n",
       "  \"max_position_embeddings\": 512,\n",
       "  \"model_type\": \"bert\",\n",
       "  \"num_attention_heads\": 12,\n",
       "  \"num_hidden_layers\": 12,\n",
       "  \"pad_token_id\": 0,\n",
       "  \"type_vocab_size\": 2,\n",
       "  \"vocab_size\": 28996\n",
       "}"
      ]
     },
     "execution_count": 21,
     "metadata": {
      "tags": []
     },
     "output_type": "execute_result"
    }
   ],
   "source": [
    "bert_model.config"
   ]
  },
  {
   "cell_type": "code",
   "execution_count": 24,
   "metadata": {
    "colab": {},
    "colab_type": "code",
    "id": "Masbl_U1vdgI"
   },
   "outputs": [],
   "source": [
    "class TweetClassifier(nn.Module):\n",
    "  def __init__(self, model):\n",
    "    super(TweetClassifier, self).__init__()\n",
    "    self.model = model\n",
    "    self.dropout = nn.Dropout(p=0.3)\n",
    "    self.linear = nn.Linear(self.model.config.hidden_size, NUM_CLASSES)\n",
    "\n",
    "  def forward(self, input_id, attention_mask):\n",
    "    hidden_state, pool_output = self.model(input_ids = input_id, attention_mask=attention_mask)\n",
    "    dropout_out = self.dropout(pool_output)\n",
    "    out = self.linear(dropout_out) \n",
    "    \n",
    "    return out\n"
   ]
  },
  {
   "cell_type": "code",
   "execution_count": 25,
   "metadata": {
    "colab": {
     "base_uri": "https://localhost:8080/",
     "height": 1000
    },
    "colab_type": "code",
    "id": "sOOmQETvvzMH",
    "outputId": "8d343c61-c06d-4c2e-dd61-0ee3a3f0550b"
   },
   "outputs": [
    {
     "data": {
      "text/plain": [
       "TweetClassifier(\n",
       "  (model): BertModel(\n",
       "    (embeddings): BertEmbeddings(\n",
       "      (word_embeddings): Embedding(28996, 768, padding_idx=0)\n",
       "      (position_embeddings): Embedding(512, 768)\n",
       "      (token_type_embeddings): Embedding(2, 768)\n",
       "      (LayerNorm): LayerNorm((768,), eps=1e-12, elementwise_affine=True)\n",
       "      (dropout): Dropout(p=0.1, inplace=False)\n",
       "    )\n",
       "    (encoder): BertEncoder(\n",
       "      (layer): ModuleList(\n",
       "        (0): BertLayer(\n",
       "          (attention): BertAttention(\n",
       "            (self): BertSelfAttention(\n",
       "              (query): Linear(in_features=768, out_features=768, bias=True)\n",
       "              (key): Linear(in_features=768, out_features=768, bias=True)\n",
       "              (value): Linear(in_features=768, out_features=768, bias=True)\n",
       "              (dropout): Dropout(p=0.1, inplace=False)\n",
       "            )\n",
       "            (output): BertSelfOutput(\n",
       "              (dense): Linear(in_features=768, out_features=768, bias=True)\n",
       "              (LayerNorm): LayerNorm((768,), eps=1e-12, elementwise_affine=True)\n",
       "              (dropout): Dropout(p=0.1, inplace=False)\n",
       "            )\n",
       "          )\n",
       "          (intermediate): BertIntermediate(\n",
       "            (dense): Linear(in_features=768, out_features=3072, bias=True)\n",
       "          )\n",
       "          (output): BertOutput(\n",
       "            (dense): Linear(in_features=3072, out_features=768, bias=True)\n",
       "            (LayerNorm): LayerNorm((768,), eps=1e-12, elementwise_affine=True)\n",
       "            (dropout): Dropout(p=0.1, inplace=False)\n",
       "          )\n",
       "        )\n",
       "        (1): BertLayer(\n",
       "          (attention): BertAttention(\n",
       "            (self): BertSelfAttention(\n",
       "              (query): Linear(in_features=768, out_features=768, bias=True)\n",
       "              (key): Linear(in_features=768, out_features=768, bias=True)\n",
       "              (value): Linear(in_features=768, out_features=768, bias=True)\n",
       "              (dropout): Dropout(p=0.1, inplace=False)\n",
       "            )\n",
       "            (output): BertSelfOutput(\n",
       "              (dense): Linear(in_features=768, out_features=768, bias=True)\n",
       "              (LayerNorm): LayerNorm((768,), eps=1e-12, elementwise_affine=True)\n",
       "              (dropout): Dropout(p=0.1, inplace=False)\n",
       "            )\n",
       "          )\n",
       "          (intermediate): BertIntermediate(\n",
       "            (dense): Linear(in_features=768, out_features=3072, bias=True)\n",
       "          )\n",
       "          (output): BertOutput(\n",
       "            (dense): Linear(in_features=3072, out_features=768, bias=True)\n",
       "            (LayerNorm): LayerNorm((768,), eps=1e-12, elementwise_affine=True)\n",
       "            (dropout): Dropout(p=0.1, inplace=False)\n",
       "          )\n",
       "        )\n",
       "        (2): BertLayer(\n",
       "          (attention): BertAttention(\n",
       "            (self): BertSelfAttention(\n",
       "              (query): Linear(in_features=768, out_features=768, bias=True)\n",
       "              (key): Linear(in_features=768, out_features=768, bias=True)\n",
       "              (value): Linear(in_features=768, out_features=768, bias=True)\n",
       "              (dropout): Dropout(p=0.1, inplace=False)\n",
       "            )\n",
       "            (output): BertSelfOutput(\n",
       "              (dense): Linear(in_features=768, out_features=768, bias=True)\n",
       "              (LayerNorm): LayerNorm((768,), eps=1e-12, elementwise_affine=True)\n",
       "              (dropout): Dropout(p=0.1, inplace=False)\n",
       "            )\n",
       "          )\n",
       "          (intermediate): BertIntermediate(\n",
       "            (dense): Linear(in_features=768, out_features=3072, bias=True)\n",
       "          )\n",
       "          (output): BertOutput(\n",
       "            (dense): Linear(in_features=3072, out_features=768, bias=True)\n",
       "            (LayerNorm): LayerNorm((768,), eps=1e-12, elementwise_affine=True)\n",
       "            (dropout): Dropout(p=0.1, inplace=False)\n",
       "          )\n",
       "        )\n",
       "        (3): BertLayer(\n",
       "          (attention): BertAttention(\n",
       "            (self): BertSelfAttention(\n",
       "              (query): Linear(in_features=768, out_features=768, bias=True)\n",
       "              (key): Linear(in_features=768, out_features=768, bias=True)\n",
       "              (value): Linear(in_features=768, out_features=768, bias=True)\n",
       "              (dropout): Dropout(p=0.1, inplace=False)\n",
       "            )\n",
       "            (output): BertSelfOutput(\n",
       "              (dense): Linear(in_features=768, out_features=768, bias=True)\n",
       "              (LayerNorm): LayerNorm((768,), eps=1e-12, elementwise_affine=True)\n",
       "              (dropout): Dropout(p=0.1, inplace=False)\n",
       "            )\n",
       "          )\n",
       "          (intermediate): BertIntermediate(\n",
       "            (dense): Linear(in_features=768, out_features=3072, bias=True)\n",
       "          )\n",
       "          (output): BertOutput(\n",
       "            (dense): Linear(in_features=3072, out_features=768, bias=True)\n",
       "            (LayerNorm): LayerNorm((768,), eps=1e-12, elementwise_affine=True)\n",
       "            (dropout): Dropout(p=0.1, inplace=False)\n",
       "          )\n",
       "        )\n",
       "        (4): BertLayer(\n",
       "          (attention): BertAttention(\n",
       "            (self): BertSelfAttention(\n",
       "              (query): Linear(in_features=768, out_features=768, bias=True)\n",
       "              (key): Linear(in_features=768, out_features=768, bias=True)\n",
       "              (value): Linear(in_features=768, out_features=768, bias=True)\n",
       "              (dropout): Dropout(p=0.1, inplace=False)\n",
       "            )\n",
       "            (output): BertSelfOutput(\n",
       "              (dense): Linear(in_features=768, out_features=768, bias=True)\n",
       "              (LayerNorm): LayerNorm((768,), eps=1e-12, elementwise_affine=True)\n",
       "              (dropout): Dropout(p=0.1, inplace=False)\n",
       "            )\n",
       "          )\n",
       "          (intermediate): BertIntermediate(\n",
       "            (dense): Linear(in_features=768, out_features=3072, bias=True)\n",
       "          )\n",
       "          (output): BertOutput(\n",
       "            (dense): Linear(in_features=3072, out_features=768, bias=True)\n",
       "            (LayerNorm): LayerNorm((768,), eps=1e-12, elementwise_affine=True)\n",
       "            (dropout): Dropout(p=0.1, inplace=False)\n",
       "          )\n",
       "        )\n",
       "        (5): BertLayer(\n",
       "          (attention): BertAttention(\n",
       "            (self): BertSelfAttention(\n",
       "              (query): Linear(in_features=768, out_features=768, bias=True)\n",
       "              (key): Linear(in_features=768, out_features=768, bias=True)\n",
       "              (value): Linear(in_features=768, out_features=768, bias=True)\n",
       "              (dropout): Dropout(p=0.1, inplace=False)\n",
       "            )\n",
       "            (output): BertSelfOutput(\n",
       "              (dense): Linear(in_features=768, out_features=768, bias=True)\n",
       "              (LayerNorm): LayerNorm((768,), eps=1e-12, elementwise_affine=True)\n",
       "              (dropout): Dropout(p=0.1, inplace=False)\n",
       "            )\n",
       "          )\n",
       "          (intermediate): BertIntermediate(\n",
       "            (dense): Linear(in_features=768, out_features=3072, bias=True)\n",
       "          )\n",
       "          (output): BertOutput(\n",
       "            (dense): Linear(in_features=3072, out_features=768, bias=True)\n",
       "            (LayerNorm): LayerNorm((768,), eps=1e-12, elementwise_affine=True)\n",
       "            (dropout): Dropout(p=0.1, inplace=False)\n",
       "          )\n",
       "        )\n",
       "        (6): BertLayer(\n",
       "          (attention): BertAttention(\n",
       "            (self): BertSelfAttention(\n",
       "              (query): Linear(in_features=768, out_features=768, bias=True)\n",
       "              (key): Linear(in_features=768, out_features=768, bias=True)\n",
       "              (value): Linear(in_features=768, out_features=768, bias=True)\n",
       "              (dropout): Dropout(p=0.1, inplace=False)\n",
       "            )\n",
       "            (output): BertSelfOutput(\n",
       "              (dense): Linear(in_features=768, out_features=768, bias=True)\n",
       "              (LayerNorm): LayerNorm((768,), eps=1e-12, elementwise_affine=True)\n",
       "              (dropout): Dropout(p=0.1, inplace=False)\n",
       "            )\n",
       "          )\n",
       "          (intermediate): BertIntermediate(\n",
       "            (dense): Linear(in_features=768, out_features=3072, bias=True)\n",
       "          )\n",
       "          (output): BertOutput(\n",
       "            (dense): Linear(in_features=3072, out_features=768, bias=True)\n",
       "            (LayerNorm): LayerNorm((768,), eps=1e-12, elementwise_affine=True)\n",
       "            (dropout): Dropout(p=0.1, inplace=False)\n",
       "          )\n",
       "        )\n",
       "        (7): BertLayer(\n",
       "          (attention): BertAttention(\n",
       "            (self): BertSelfAttention(\n",
       "              (query): Linear(in_features=768, out_features=768, bias=True)\n",
       "              (key): Linear(in_features=768, out_features=768, bias=True)\n",
       "              (value): Linear(in_features=768, out_features=768, bias=True)\n",
       "              (dropout): Dropout(p=0.1, inplace=False)\n",
       "            )\n",
       "            (output): BertSelfOutput(\n",
       "              (dense): Linear(in_features=768, out_features=768, bias=True)\n",
       "              (LayerNorm): LayerNorm((768,), eps=1e-12, elementwise_affine=True)\n",
       "              (dropout): Dropout(p=0.1, inplace=False)\n",
       "            )\n",
       "          )\n",
       "          (intermediate): BertIntermediate(\n",
       "            (dense): Linear(in_features=768, out_features=3072, bias=True)\n",
       "          )\n",
       "          (output): BertOutput(\n",
       "            (dense): Linear(in_features=3072, out_features=768, bias=True)\n",
       "            (LayerNorm): LayerNorm((768,), eps=1e-12, elementwise_affine=True)\n",
       "            (dropout): Dropout(p=0.1, inplace=False)\n",
       "          )\n",
       "        )\n",
       "        (8): BertLayer(\n",
       "          (attention): BertAttention(\n",
       "            (self): BertSelfAttention(\n",
       "              (query): Linear(in_features=768, out_features=768, bias=True)\n",
       "              (key): Linear(in_features=768, out_features=768, bias=True)\n",
       "              (value): Linear(in_features=768, out_features=768, bias=True)\n",
       "              (dropout): Dropout(p=0.1, inplace=False)\n",
       "            )\n",
       "            (output): BertSelfOutput(\n",
       "              (dense): Linear(in_features=768, out_features=768, bias=True)\n",
       "              (LayerNorm): LayerNorm((768,), eps=1e-12, elementwise_affine=True)\n",
       "              (dropout): Dropout(p=0.1, inplace=False)\n",
       "            )\n",
       "          )\n",
       "          (intermediate): BertIntermediate(\n",
       "            (dense): Linear(in_features=768, out_features=3072, bias=True)\n",
       "          )\n",
       "          (output): BertOutput(\n",
       "            (dense): Linear(in_features=3072, out_features=768, bias=True)\n",
       "            (LayerNorm): LayerNorm((768,), eps=1e-12, elementwise_affine=True)\n",
       "            (dropout): Dropout(p=0.1, inplace=False)\n",
       "          )\n",
       "        )\n",
       "        (9): BertLayer(\n",
       "          (attention): BertAttention(\n",
       "            (self): BertSelfAttention(\n",
       "              (query): Linear(in_features=768, out_features=768, bias=True)\n",
       "              (key): Linear(in_features=768, out_features=768, bias=True)\n",
       "              (value): Linear(in_features=768, out_features=768, bias=True)\n",
       "              (dropout): Dropout(p=0.1, inplace=False)\n",
       "            )\n",
       "            (output): BertSelfOutput(\n",
       "              (dense): Linear(in_features=768, out_features=768, bias=True)\n",
       "              (LayerNorm): LayerNorm((768,), eps=1e-12, elementwise_affine=True)\n",
       "              (dropout): Dropout(p=0.1, inplace=False)\n",
       "            )\n",
       "          )\n",
       "          (intermediate): BertIntermediate(\n",
       "            (dense): Linear(in_features=768, out_features=3072, bias=True)\n",
       "          )\n",
       "          (output): BertOutput(\n",
       "            (dense): Linear(in_features=3072, out_features=768, bias=True)\n",
       "            (LayerNorm): LayerNorm((768,), eps=1e-12, elementwise_affine=True)\n",
       "            (dropout): Dropout(p=0.1, inplace=False)\n",
       "          )\n",
       "        )\n",
       "        (10): BertLayer(\n",
       "          (attention): BertAttention(\n",
       "            (self): BertSelfAttention(\n",
       "              (query): Linear(in_features=768, out_features=768, bias=True)\n",
       "              (key): Linear(in_features=768, out_features=768, bias=True)\n",
       "              (value): Linear(in_features=768, out_features=768, bias=True)\n",
       "              (dropout): Dropout(p=0.1, inplace=False)\n",
       "            )\n",
       "            (output): BertSelfOutput(\n",
       "              (dense): Linear(in_features=768, out_features=768, bias=True)\n",
       "              (LayerNorm): LayerNorm((768,), eps=1e-12, elementwise_affine=True)\n",
       "              (dropout): Dropout(p=0.1, inplace=False)\n",
       "            )\n",
       "          )\n",
       "          (intermediate): BertIntermediate(\n",
       "            (dense): Linear(in_features=768, out_features=3072, bias=True)\n",
       "          )\n",
       "          (output): BertOutput(\n",
       "            (dense): Linear(in_features=3072, out_features=768, bias=True)\n",
       "            (LayerNorm): LayerNorm((768,), eps=1e-12, elementwise_affine=True)\n",
       "            (dropout): Dropout(p=0.1, inplace=False)\n",
       "          )\n",
       "        )\n",
       "        (11): BertLayer(\n",
       "          (attention): BertAttention(\n",
       "            (self): BertSelfAttention(\n",
       "              (query): Linear(in_features=768, out_features=768, bias=True)\n",
       "              (key): Linear(in_features=768, out_features=768, bias=True)\n",
       "              (value): Linear(in_features=768, out_features=768, bias=True)\n",
       "              (dropout): Dropout(p=0.1, inplace=False)\n",
       "            )\n",
       "            (output): BertSelfOutput(\n",
       "              (dense): Linear(in_features=768, out_features=768, bias=True)\n",
       "              (LayerNorm): LayerNorm((768,), eps=1e-12, elementwise_affine=True)\n",
       "              (dropout): Dropout(p=0.1, inplace=False)\n",
       "            )\n",
       "          )\n",
       "          (intermediate): BertIntermediate(\n",
       "            (dense): Linear(in_features=768, out_features=3072, bias=True)\n",
       "          )\n",
       "          (output): BertOutput(\n",
       "            (dense): Linear(in_features=3072, out_features=768, bias=True)\n",
       "            (LayerNorm): LayerNorm((768,), eps=1e-12, elementwise_affine=True)\n",
       "            (dropout): Dropout(p=0.1, inplace=False)\n",
       "          )\n",
       "        )\n",
       "      )\n",
       "    )\n",
       "    (pooler): BertPooler(\n",
       "      (dense): Linear(in_features=768, out_features=768, bias=True)\n",
       "      (activation): Tanh()\n",
       "    )\n",
       "  )\n",
       "  (dropout): Dropout(p=0.3, inplace=False)\n",
       "  (linear): Linear(in_features=768, out_features=2, bias=True)\n",
       ")"
      ]
     },
     "execution_count": 25,
     "metadata": {
      "tags": []
     },
     "output_type": "execute_result"
    }
   ],
   "source": [
    "model = TweetClassifier(bert_model)\n",
    "device = torch.device(\"cuda: 0\" if torch.cuda.is_available else \"cpu\")\n",
    "model.to(device)"
   ]
  },
  {
   "cell_type": "code",
   "execution_count": 30,
   "metadata": {
    "colab": {},
    "colab_type": "code",
    "id": "G1U-_LbJxeX1"
   },
   "outputs": [],
   "source": [
    "optimizer = AdamW(model.parameters(), lr=2e-5, correct_bias=False)\n",
    "total_steps = len(train_dataloader) * NUM_EPOCHS\n",
    "scheduler = get_linear_schedule_with_warmup(\n",
    "  optimizer,\n",
    "  num_warmup_steps=0,\n",
    "  num_training_steps=total_steps\n",
    ")\n",
    "\n",
    "loss_fn = nn.CrossEntropyLoss().to(device)"
   ]
  },
  {
   "cell_type": "code",
   "execution_count": 31,
   "metadata": {
    "colab": {
     "base_uri": "https://localhost:8080/",
     "height": 34
    },
    "colab_type": "code",
    "id": "vxRefPGazF_o",
    "outputId": "be5f9260-e5e2-4544-d619-876d838b8e7e"
   },
   "outputs": [
    {
     "data": {
      "text/plain": [
       "dict_keys(['input_ids', 'attention_mask', 'tweet', 'polarity'])"
      ]
     },
     "execution_count": 31,
     "metadata": {
      "tags": []
     },
     "output_type": "execute_result"
    }
   ],
   "source": [
    "next(iter(train_dataloader)).keys()"
   ]
  },
  {
   "cell_type": "code",
   "execution_count": 32,
   "metadata": {
    "colab": {},
    "colab_type": "code",
    "id": "luZezdtayYss"
   },
   "outputs": [],
   "source": [
    "def train(model, dataloader, loss_fn, scheduler, optimizer, num_examples, device ):\n",
    "  model = model.train()\n",
    "  total_loss = 0\n",
    "  correct_predictions = 0\n",
    "  for data in dataloader:\n",
    "    input_ids, attention_mask, polarity = data['input_ids'].to(device), data['attention_mask'].to(device), data['polarity'].to(device)\n",
    "    outputs = model(input_ids, attention_mask)\n",
    "    _, preds = torch.max(outputs, dim=1)\n",
    "    \n",
    "    loss = loss_fn(outputs, polarity)\n",
    "    correct_predictions += torch.sum(preds == polarity).double()/len(preds)\n",
    "    \n",
    "    total_loss += loss\n",
    "\n",
    "    loss.backward()\n",
    "    # print (\"cur loss: \", loss)\n",
    "    nn.utils.clip_grad_norm_(model.parameters(), max_norm=1.0)\n",
    "    optimizer.step()\n",
    "    scheduler.step()\n",
    "    optimizer.zero_grad()\n",
    "\n",
    "  return correct_predictions.double()/num_examples, total_loss.double()/num_examples"
   ]
  },
  {
   "cell_type": "code",
   "execution_count": 33,
   "metadata": {
    "colab": {},
    "colab_type": "code",
    "id": "etkG5_thXXeo"
   },
   "outputs": [],
   "source": [
    "def eval(model, dataloader, loss_fn, num_examples, device):\n",
    "  model = model.eval()\n",
    "  total_loss = 0\n",
    "  correct_predictions = 0\n",
    "  with torch.no_grad():\n",
    "    for data in dataloader:\n",
    "      input_ids, attention_mask, polarity = data['input_ids'].to(device), data['attention_mask'].to(device), data['polarity'].to(device)\n",
    "      outputs = model(input_ids, attention_mask)\n",
    "      _, preds = torch.max(outputs, dim=1)\n",
    "\n",
    "      loss = loss_fn(outputs, polarity)\n",
    "      correct_predictions += torch.sum(preds == polarity).double()/len(preds)\n",
    "      total_loss += loss\n",
    "  return correct_predictions.double()/num_examples, total_loss.double()/num_examples"
   ]
  },
  {
   "cell_type": "code",
   "execution_count": 34,
   "metadata": {
    "colab": {
     "base_uri": "https://localhost:8080/",
     "height": 527
    },
    "colab_type": "code",
    "id": "ZnXPM4qN0n1k",
    "outputId": "3e19da96-a477-4b7f-9b49-5ff95bf2579b"
   },
   "outputs": [
    {
     "name": "stdout",
     "output_type": "stream",
     "text": [
      "Epoch:  0\n",
      "Training Accuracy: tensor(0.8147, device='cuda:0', dtype=torch.float64), Training Loss: tensor(0.4087, device='cuda:0', dtype=torch.float64, grad_fn=<DivBackward0>)\n",
      "Validation Accuracy: tensor(0.8470, device='cuda:0', dtype=torch.float64), Validation Loss: tensor(0.3528, device='cuda:0', dtype=torch.float64)\n",
      "Epoch:  1\n",
      "Training Accuracy: tensor(0.8869, device='cuda:0', dtype=torch.float64), Training Loss: tensor(0.2750, device='cuda:0', dtype=torch.float64, grad_fn=<DivBackward0>)\n",
      "Validation Accuracy: tensor(0.8422, device='cuda:0', dtype=torch.float64), Validation Loss: tensor(0.3705, device='cuda:0', dtype=torch.float64)\n",
      "Epoch:  2\n",
      "Training Accuracy: tensor(0.9286, device='cuda:0', dtype=torch.float64), Training Loss: tensor(0.1860, device='cuda:0', dtype=torch.float64, grad_fn=<DivBackward0>)\n",
      "Validation Accuracy: tensor(0.8378, device='cuda:0', dtype=torch.float64), Validation Loss: tensor(0.4304, device='cuda:0', dtype=torch.float64)\n",
      "Epoch:  3\n",
      "Training Accuracy: tensor(0.9540, device='cuda:0', dtype=torch.float64), Training Loss: tensor(0.1269, device='cuda:0', dtype=torch.float64, grad_fn=<DivBackward0>)\n",
      "Validation Accuracy: tensor(0.8375, device='cuda:0', dtype=torch.float64), Validation Loss: tensor(0.5000, device='cuda:0', dtype=torch.float64)\n",
      "Epoch:  4\n",
      "Training Accuracy: tensor(0.9673, device='cuda:0', dtype=torch.float64), Training Loss: tensor(0.0926, device='cuda:0', dtype=torch.float64, grad_fn=<DivBackward0>)\n",
      "Validation Accuracy: tensor(0.8371, device='cuda:0', dtype=torch.float64), Validation Loss: tensor(0.6349, device='cuda:0', dtype=torch.float64)\n",
      "Epoch:  5\n",
      "Training Accuracy: tensor(0.9765, device='cuda:0', dtype=torch.float64), Training Loss: tensor(0.0692, device='cuda:0', dtype=torch.float64, grad_fn=<DivBackward0>)\n",
      "Validation Accuracy: tensor(0.8340, device='cuda:0', dtype=torch.float64), Validation Loss: tensor(0.6952, device='cuda:0', dtype=torch.float64)\n",
      "Epoch:  6\n",
      "Training Accuracy: tensor(0.9809, device='cuda:0', dtype=torch.float64), Training Loss: tensor(0.0568, device='cuda:0', dtype=torch.float64, grad_fn=<DivBackward0>)\n",
      "Validation Accuracy: tensor(0.8332, device='cuda:0', dtype=torch.float64), Validation Loss: tensor(0.7676, device='cuda:0', dtype=torch.float64)\n",
      "Epoch:  7\n",
      "Training Accuracy: tensor(0.9841, device='cuda:0', dtype=torch.float64), Training Loss: tensor(0.0473, device='cuda:0', dtype=torch.float64, grad_fn=<DivBackward0>)\n",
      "Validation Accuracy: tensor(0.8336, device='cuda:0', dtype=torch.float64), Validation Loss: tensor(0.8004, device='cuda:0', dtype=torch.float64)\n",
      "Epoch:  8\n",
      "Training Accuracy: tensor(0.9871, device='cuda:0', dtype=torch.float64), Training Loss: tensor(0.0400, device='cuda:0', dtype=torch.float64, grad_fn=<DivBackward0>)\n",
      "Validation Accuracy: tensor(0.8359, device='cuda:0', dtype=torch.float64), Validation Loss: tensor(0.8368, device='cuda:0', dtype=torch.float64)\n",
      "Epoch:  9\n",
      "Training Accuracy: tensor(0.9888, device='cuda:0', dtype=torch.float64), Training Loss: tensor(0.0350, device='cuda:0', dtype=torch.float64, grad_fn=<DivBackward0>)\n",
      "Validation Accuracy: tensor(0.8382, device='cuda:0', dtype=torch.float64), Validation Loss: tensor(0.8640, device='cuda:0', dtype=torch.float64)\n"
     ]
    }
   ],
   "source": [
    "# Training\n",
    "history = defaultdict(list)\n",
    "best_acc = 0\n",
    "for ep in range(NUM_EPOCHS):\n",
    "  train_acc, train_loss = train(model, train_dataloader, loss_fn, scheduler, optimizer, len(train_dataloader), device)\n",
    "  print (\"Epoch: \", ep)\n",
    "  print (\"Training Accuracy: %s, Training Loss: %s\" % (train_acc, train_loss))\n",
    "\n",
    "  val_acc, val_loss = eval(model, val_dataloader, loss_fn, len(val_dataloader), device)\n",
    "  print (\"Validation Accuracy: %s, Validation Loss: %s\" % (val_acc, val_loss))\n",
    "\n",
    "  history['train_acc'].append(train_acc)\n",
    "  history['train_loss'].append(train_loss)\n",
    "  history['val_acc'].append(val_acc)\n",
    "  history['val_loss'].append(val_loss)\n",
    "  \n",
    "  if val_acc >  best_acc:\n",
    "    best_acc = val_acc\n",
    "    torch.save(model.state_dict(), 'best_model.bin')"
   ]
  },
  {
   "cell_type": "code",
   "execution_count": 35,
   "metadata": {
    "colab": {
     "base_uri": "https://localhost:8080/",
     "height": 295
    },
    "colab_type": "code",
    "id": "Hf8zgKd_3bDB",
    "outputId": "8a4f746f-043e-4a35-d6d1-d24849dd3659"
   },
   "outputs": [
    {
     "data": {
      "image/png": "[encoded data removed]",
      "text/plain": [
       "<Figure size 432x288 with 1 Axes>"
      ]
     },
     "metadata": {
      "needs_background": "light",
      "tags": []
     },
     "output_type": "display_data"
    }
   ],
   "source": [
    "plt.plot(history['train_acc'], label='train accuracy')\n",
    "plt.plot(history['val_acc'], label='validation accuracy')\n",
    "plt.title('Training history')\n",
    "plt.ylabel('Accuracy')\n",
    "plt.xlabel('Epoch')\n",
    "plt.legend()\n",
    "plt.ylim([0, 1]);"
   ]
  },
  {
   "cell_type": "code",
   "execution_count": 36,
   "metadata": {
    "colab": {
     "base_uri": "https://localhost:8080/",
     "height": 34
    },
    "colab_type": "code",
    "id": "7Td_7S6AShQO",
    "outputId": "18d83e62-deb8-4716-fdc4-523037fb499d"
   },
   "outputs": [
    {
     "name": "stdout",
     "output_type": "stream",
     "text": [
      "Test accuracy is:  0.831190664556962\n"
     ]
    }
   ],
   "source": [
    "# Test Set Evaluation\n",
    "model.load_state_dict(torch.load('best_model.bin'))\n",
    "model = model.to(device)\n",
    "\n",
    "test_acc, test_loss = eval(model, test_dataloader, loss_fn, len(test_dataloader), device)\n",
    "print (\"Test accuracy is: \", test_acc.item())"
   ]
  },
  {
   "cell_type": "code",
   "execution_count": 37,
   "metadata": {
    "colab": {},
    "colab_type": "code",
    "id": "ROK7gWOXcN5Z"
   },
   "outputs": [],
   "source": [
    "def generate_predictions(model, dataloader):\n",
    "  model = model.eval()\n",
    "  tweets = []\n",
    "  gold_value = []\n",
    "  predicted_value = []\n",
    "  with torch.no_grad():\n",
    "    for data in dataloader:\n",
    "      input_ids, attention_mask, polarity, tweet = data['input_ids'].to(device), data['attention_mask'].to(device), data['polarity'].to(device), data['tweet']\n",
    "      outputs = model(input_ids, attention_mask)\n",
    "      _, preds = torch.max(outputs, dim=1)\n",
    "\n",
    "      tweets.extend(tweet)\n",
    "      gold_value.extend(polarity)\n",
    "      predicted_value.extend(preds)\n",
    "      \n",
    "  gold_value = torch.stack(gold_value).cpu()\n",
    "  predicted_value = torch.stack(predicted_value).cpu()\n",
    "\n",
    "  return tweets, gold_value, predicted_value"
   ]
  },
  {
   "cell_type": "code",
   "execution_count": 38,
   "metadata": {
    "colab": {},
    "colab_type": "code",
    "id": "pdsa1Fw4gKSG"
   },
   "outputs": [],
   "source": [
    "tweets, y_gold, y_pred = generate_predictions(model, test_dataloader)"
   ]
  },
  {
   "cell_type": "code",
   "execution_count": 39,
   "metadata": {
    "colab": {
     "base_uri": "https://localhost:8080/",
     "height": 170
    },
    "colab_type": "code",
    "id": "hgv1biw5gy7W",
    "outputId": "1a6227f8-39b7-41f4-d582-fe45b7600be9"
   },
   "outputs": [
    {
     "name": "stdout",
     "output_type": "stream",
     "text": [
      "              precision    recall  f1-score   support\n",
      "\n",
      "    negative       0.82      0.85      0.83      4951\n",
      "    positive       0.85      0.81      0.83      5049\n",
      "\n",
      "    accuracy                           0.83     10000\n",
      "   macro avg       0.83      0.83      0.83     10000\n",
      "weighted avg       0.83      0.83      0.83     10000\n",
      "\n"
     ]
    }
   ],
   "source": [
    "print (classification_report(y_gold, y_pred, target_names=['negative','positive']))"
   ]
  },
  {
   "cell_type": "code",
   "execution_count": 40,
   "metadata": {
    "colab": {
     "base_uri": "https://localhost:8080/",
     "height": 300
    },
    "colab_type": "code",
    "id": "0EvwKeDThQCH",
    "outputId": "2bc2ff75-6fbd-47c7-9be6-738cbcfc8c2f"
   },
   "outputs": [
    {
     "data": {
      "image/png": "[encoded data removed]",
      "text/plain": [
       "<Figure size 432x288 with 2 Axes>"
      ]
     },
     "metadata": {
      "needs_background": "light",
      "tags": []
     },
     "output_type": "display_data"
    }
   ],
   "source": [
    "def show_confusion_matrix(confusion_matrix):\n",
    "  hmap = sns.heatmap(confusion_matrix, annot=True, fmt=\"d\", cmap=\"Blues\")\n",
    "  hmap.yaxis.set_ticklabels(hmap.yaxis.get_ticklabels(), rotation=0, ha='right')\n",
    "  hmap.xaxis.set_ticklabels(hmap.xaxis.get_ticklabels(), rotation=30, ha='right')\n",
    "  plt.ylabel('True polarity')\n",
    "  plt.xlabel('Predicted polarity');\n",
    "cm = confusion_matrix(y_gold, y_pred)\n",
    "df_cm = pd.DataFrame(cm, index=['negative','positive'], columns=['negative','positive'])\n",
    "show_confusion_matrix(df_cm)"
   ]
  },
  {
   "cell_type": "code",
   "execution_count": 41,
   "metadata": {
    "colab": {},
    "colab_type": "code",
    "id": "1ayY1gLY1r8X"
   },
   "outputs": [],
   "source": [
    "test_tweet = \"Great survey of the state-of-the-art language models https://medium.com/@phylypo/a-survey-of-the-state-of-the-art-language-models-up-to-early-2020-aba824302c6 #NLProc\""
   ]
  },
  {
   "cell_type": "code",
   "execution_count": 42,
   "metadata": {
    "colab": {},
    "colab_type": "code",
    "id": "e_qudtXWq9cH"
   },
   "outputs": [],
   "source": [
    "tweet = preprocess_tweet(test_tweet)"
   ]
  },
  {
   "cell_type": "code",
   "execution_count": 43,
   "metadata": {
    "colab": {},
    "colab_type": "code",
    "id": "wXq4kJ-W3ndT"
   },
   "outputs": [],
   "source": [
    "encoded_tweet = tokenizer.encode_plus(tweet, add_special_tokens=True, max_length=MAX_LEN, return_token_type_ids=False, return_attention_mask=True, \n",
    "                                      pad_to_max_length=True,return_tensors='pt')\n"
   ]
  },
  {
   "cell_type": "code",
   "execution_count": 44,
   "metadata": {
    "colab": {},
    "colab_type": "code",
    "id": "9iXqh9Vq4TdD"
   },
   "outputs": [],
   "source": [
    "input_ids, attention_mask = encoded_tweet['input_ids'].to(device), encoded_tweet['attention_mask'].to(device)\n",
    "outputs = model(input_ids, attention_mask)\n",
    "_, preds = torch.max(outputs, dim=1)"
   ]
  },
  {
   "cell_type": "code",
   "execution_count": 45,
   "metadata": {
    "colab": {
     "base_uri": "https://localhost:8080/",
     "height": 51
    },
    "colab_type": "code",
    "id": "_jO9y0rj4YDo",
    "outputId": "805ea95c-6426-4b41-8a4b-f328ef85ae15"
   },
   "outputs": [
    {
     "name": "stdout",
     "output_type": "stream",
     "text": [
      "User Tweet:  Great survey of the state-of-the-art language models https://medium.com/@phylypo/a-survey-of-the-state-of-the-art-language-models-up-to-early-2020-aba824302c6 #NLProc\n",
      "Predicted polarity:  positive\n"
     ]
    }
   ],
   "source": [
    "polarities = ['negative','positive']\n",
    "print(\"User Tweet: \", test_tweet)\n",
    "print (\"Predicted polarity: \", polarities[preds])"
   ]
  }
 ],
 "metadata": {
  "accelerator": "GPU",
  "colab": {
   "collapsed_sections": [],
   "name": "sentiment_analysis.ipynb",
   "provenance": []
  },
  "kernelspec": {
   "display_name": "Python 3",
   "language": "python",
   "name": "python3"
  },
  "language_info": {
   "codemirror_mode": {
    "name": "ipython",
    "version": 3
   },
   "file_extension": ".py",
   "mimetype": "text/x-python",
   "name": "python",
   "nbconvert_exporter": "python",
   "pygments_lexer": "ipython3",
   "version": "3.7.6"
  },
  "widgets": {
   "application/vnd.jupyter.widget-state+json": {
    "016f9e02189d43a4a686b1a386c50bfd": {
     "model_module": "@jupyter-widgets/controls",
     "model_name": "HTMLModel",
     "state": {
      "_dom_classes": [],
      "_model_module": "@jupyter-widgets/controls",
      "_model_module_version": "1.5.0",
      "_model_name": "HTMLModel",
      "_view_count": null,
      "_view_module": "@jupyter-widgets/controls",
      "_view_module_version": "1.5.0",
      "_view_name": "HTMLView",
      "description": "",
      "description_tooltip": null,
      "layout": "IPY_MODEL_0a95380bc4244c0389103fbe90e49cbb",
      "placeholder": "​",
      "style": "IPY_MODEL_30a4e65c447d4719b5abf9f054f20faa",
      "value": " 433/433 [00:00&lt;00:00, 2.75kB/s]"
     }
    },
    "01cade803b06472796db20129803f67a": {
     "model_module": "@jupyter-widgets/base",
     "model_name": "LayoutModel",
     "state": {
      "_model_module": "@jupyter-widgets/base",
      "_model_module_version": "1.2.0",
      "_model_name": "LayoutModel",
      "_view_count": null,
      "_view_module": "@jupyter-widgets/base",
      "_view_module_version": "1.2.0",
      "_view_name": "LayoutView",
      "align_content": null,
      "align_items": null,
      "align_self": null,
      "border": null,
      "bottom": null,
      "display": null,
      "flex": null,
      "flex_flow": null,
      "grid_area": null,
      "grid_auto_columns": null,
      "grid_auto_flow": null,
      "grid_auto_rows": null,
      "grid_column": null,
      "grid_gap": null,
      "grid_row": null,
      "grid_template_areas": null,
      "grid_template_columns": null,
      "grid_template_rows": null,
      "height": null,
      "justify_content": null,
      "justify_items": null,
      "left": null,
      "margin": null,
      "max_height": null,
      "max_width": null,
      "min_height": null,
      "min_width": null,
      "object_fit": null,
      "object_position": null,
      "order": null,
      "overflow": null,
      "overflow_x": null,
      "overflow_y": null,
      "padding": null,
      "right": null,
      "top": null,
      "visibility": null,
      "width": null
     }
    },
    "075e47ab208b41b2b55268ab360c7a2f": {
     "model_module": "@jupyter-widgets/controls",
     "model_name": "FloatProgressModel",
     "state": {
      "_dom_classes": [],
      "_model_module": "@jupyter-widgets/controls",
      "_model_module_version": "1.5.0",
      "_model_name": "FloatProgressModel",
      "_view_count": null,
      "_view_module": "@jupyter-widgets/controls",
      "_view_module_version": "1.5.0",
      "_view_name": "ProgressView",
      "bar_style": "success",
      "description": "Downloading: 100%",
      "description_tooltip": null,
      "layout": "IPY_MODEL_b5d47328c315473e9f59312a6040a1e6",
      "max": 213450,
      "min": 0,
      "orientation": "horizontal",
      "style": "IPY_MODEL_97c316dfa2864e84b37058761d51ed4f",
      "value": 213450
     }
    },
    "0a95380bc4244c0389103fbe90e49cbb": {
     "model_module": "@jupyter-widgets/base",
     "model_name": "LayoutModel",
     "state": {
      "_model_module": "@jupyter-widgets/base",
      "_model_module_version": "1.2.0",
      "_model_name": "LayoutModel",
      "_view_count": null,
      "_view_module": "@jupyter-widgets/base",
      "_view_module_version": "1.2.0",
      "_view_name": "LayoutView",
      "align_content": null,
      "align_items": null,
      "align_self": null,
      "border": null,
      "bottom": null,
      "display": null,
      "flex": null,
      "flex_flow": null,
      "grid_area": null,
      "grid_auto_columns": null,
      "grid_auto_flow": null,
      "grid_auto_rows": null,
      "grid_column": null,
      "grid_gap": null,
      "grid_row": null,
      "grid_template_areas": null,
      "grid_template_columns": null,
      "grid_template_rows": null,
      "height": null,
      "justify_content": null,
      "justify_items": null,
      "left": null,
      "margin": null,
      "max_height": null,
      "max_width": null,
      "min_height": null,
      "min_width": null,
      "object_fit": null,
      "object_position": null,
      "order": null,
      "overflow": null,
      "overflow_x": null,
      "overflow_y": null,
      "padding": null,
      "right": null,
      "top": null,
      "visibility": null,
      "width": null
     }
    },
    "11b027af4dcb490db1871ba4af5e5342": {
     "model_module": "@jupyter-widgets/base",
     "model_name": "LayoutModel",
     "state": {
      "_model_module": "@jupyter-widgets/base",
      "_model_module_version": "1.2.0",
      "_model_name": "LayoutModel",
      "_view_count": null,
      "_view_module": "@jupyter-widgets/base",
      "_view_module_version": "1.2.0",
      "_view_name": "LayoutView",
      "align_content": null,
      "align_items": null,
      "align_self": null,
      "border": null,
      "bottom": null,
      "display": null,
      "flex": null,
      "flex_flow": null,
      "grid_area": null,
      "grid_auto_columns": null,
      "grid_auto_flow": null,
      "grid_auto_rows": null,
      "grid_column": null,
      "grid_gap": null,
      "grid_row": null,
      "grid_template_areas": null,
      "grid_template_columns": null,
      "grid_template_rows": null,
      "height": null,
      "justify_content": null,
      "justify_items": null,
      "left": null,
      "margin": null,
      "max_height": null,
      "max_width": null,
      "min_height": null,
      "min_width": null,
      "object_fit": null,
      "object_position": null,
      "order": null,
      "overflow": null,
      "overflow_x": null,
      "overflow_y": null,
      "padding": null,
      "right": null,
      "top": null,
      "visibility": null,
      "width": null
     }
    },
    "30a4e65c447d4719b5abf9f054f20faa": {
     "model_module": "@jupyter-widgets/controls",
     "model_name": "DescriptionStyleModel",
     "state": {
      "_model_module": "@jupyter-widgets/controls",
      "_model_module_version": "1.5.0",
      "_model_name": "DescriptionStyleModel",
      "_view_count": null,
      "_view_module": "@jupyter-widgets/base",
      "_view_module_version": "1.2.0",
      "_view_name": "StyleView",
      "description_width": ""
     }
    },
    "46548e591a2a4e7c93a6d362998a7492": {
     "model_module": "@jupyter-widgets/controls",
     "model_name": "ProgressStyleModel",
     "state": {
      "_model_module": "@jupyter-widgets/controls",
      "_model_module_version": "1.5.0",
      "_model_name": "ProgressStyleModel",
      "_view_count": null,
      "_view_module": "@jupyter-widgets/base",
      "_view_module_version": "1.2.0",
      "_view_name": "StyleView",
      "bar_color": null,
      "description_width": "initial"
     }
    },
    "56e29a23f7e2473595d31b71d095c5ad": {
     "model_module": "@jupyter-widgets/base",
     "model_name": "LayoutModel",
     "state": {
      "_model_module": "@jupyter-widgets/base",
      "_model_module_version": "1.2.0",
      "_model_name": "LayoutModel",
      "_view_count": null,
      "_view_module": "@jupyter-widgets/base",
      "_view_module_version": "1.2.0",
      "_view_name": "LayoutView",
      "align_content": null,
      "align_items": null,
      "align_self": null,
      "border": null,
      "bottom": null,
      "display": null,
      "flex": null,
      "flex_flow": null,
      "grid_area": null,
      "grid_auto_columns": null,
      "grid_auto_flow": null,
      "grid_auto_rows": null,
      "grid_column": null,
      "grid_gap": null,
      "grid_row": null,
      "grid_template_areas": null,
      "grid_template_columns": null,
      "grid_template_rows": null,
      "height": null,
      "justify_content": null,
      "justify_items": null,
      "left": null,
      "margin": null,
      "max_height": null,
      "max_width": null,
      "min_height": null,
      "min_width": null,
      "object_fit": null,
      "object_position": null,
      "order": null,
      "overflow": null,
      "overflow_x": null,
      "overflow_y": null,
      "padding": null,
      "right": null,
      "top": null,
      "visibility": null,
      "width": null
     }
    },
    "64d5fe6b298c4634bbd4550006796f98": {
     "model_module": "@jupyter-widgets/controls",
     "model_name": "HBoxModel",
     "state": {
      "_dom_classes": [],
      "_model_module": "@jupyter-widgets/controls",
      "_model_module_version": "1.5.0",
      "_model_name": "HBoxModel",
      "_view_count": null,
      "_view_module": "@jupyter-widgets/controls",
      "_view_module_version": "1.5.0",
      "_view_name": "HBoxView",
      "box_style": "",
      "children": [
       "IPY_MODEL_075e47ab208b41b2b55268ab360c7a2f",
       "IPY_MODEL_acc2edba3ef9433fb3444e8fb3f89230"
      ],
      "layout": "IPY_MODEL_01cade803b06472796db20129803f67a"
     }
    },
    "67ef77e0abc5464199bbcbd330cea9e9": {
     "model_module": "@jupyter-widgets/controls",
     "model_name": "HBoxModel",
     "state": {
      "_dom_classes": [],
      "_model_module": "@jupyter-widgets/controls",
      "_model_module_version": "1.5.0",
      "_model_name": "HBoxModel",
      "_view_count": null,
      "_view_module": "@jupyter-widgets/controls",
      "_view_module_version": "1.5.0",
      "_view_name": "HBoxView",
      "box_style": "",
      "children": [
       "IPY_MODEL_a724bdb13ca4493dbb3502c03ed78547",
       "IPY_MODEL_016f9e02189d43a4a686b1a386c50bfd"
      ],
      "layout": "IPY_MODEL_a87af4d46d074906b7f725cb0b421703"
     }
    },
    "7bddfdb49adf4f98b61cb8291ebab486": {
     "model_module": "@jupyter-widgets/base",
     "model_name": "LayoutModel",
     "state": {
      "_model_module": "@jupyter-widgets/base",
      "_model_module_version": "1.2.0",
      "_model_name": "LayoutModel",
      "_view_count": null,
      "_view_module": "@jupyter-widgets/base",
      "_view_module_version": "1.2.0",
      "_view_name": "LayoutView",
      "align_content": null,
      "align_items": null,
      "align_self": null,
      "border": null,
      "bottom": null,
      "display": null,
      "flex": null,
      "flex_flow": null,
      "grid_area": null,
      "grid_auto_columns": null,
      "grid_auto_flow": null,
      "grid_auto_rows": null,
      "grid_column": null,
      "grid_gap": null,
      "grid_row": null,
      "grid_template_areas": null,
      "grid_template_columns": null,
      "grid_template_rows": null,
      "height": null,
      "justify_content": null,
      "justify_items": null,
      "left": null,
      "margin": null,
      "max_height": null,
      "max_width": null,
      "min_height": null,
      "min_width": null,
      "object_fit": null,
      "object_position": null,
      "order": null,
      "overflow": null,
      "overflow_x": null,
      "overflow_y": null,
      "padding": null,
      "right": null,
      "top": null,
      "visibility": null,
      "width": null
     }
    },
    "8b296aa3cc7b4b02aec2226998ff6af5": {
     "model_module": "@jupyter-widgets/controls",
     "model_name": "HBoxModel",
     "state": {
      "_dom_classes": [],
      "_model_module": "@jupyter-widgets/controls",
      "_model_module_version": "1.5.0",
      "_model_name": "HBoxModel",
      "_view_count": null,
      "_view_module": "@jupyter-widgets/controls",
      "_view_module_version": "1.5.0",
      "_view_name": "HBoxView",
      "box_style": "",
      "children": [
       "IPY_MODEL_f00a20da67c2430d9c932efbfe5d70e8",
       "IPY_MODEL_b8f50cea40d4476db16534a8338c8e72"
      ],
      "layout": "IPY_MODEL_11b027af4dcb490db1871ba4af5e5342"
     }
    },
    "8dc5b53f874b4cef817cf7f62bb3ad68": {
     "model_module": "@jupyter-widgets/controls",
     "model_name": "ProgressStyleModel",
     "state": {
      "_model_module": "@jupyter-widgets/controls",
      "_model_module_version": "1.5.0",
      "_model_name": "ProgressStyleModel",
      "_view_count": null,
      "_view_module": "@jupyter-widgets/base",
      "_view_module_version": "1.2.0",
      "_view_name": "StyleView",
      "bar_color": null,
      "description_width": "initial"
     }
    },
    "97c316dfa2864e84b37058761d51ed4f": {
     "model_module": "@jupyter-widgets/controls",
     "model_name": "ProgressStyleModel",
     "state": {
      "_model_module": "@jupyter-widgets/controls",
      "_model_module_version": "1.5.0",
      "_model_name": "ProgressStyleModel",
      "_view_count": null,
      "_view_module": "@jupyter-widgets/base",
      "_view_module_version": "1.2.0",
      "_view_name": "StyleView",
      "bar_color": null,
      "description_width": "initial"
     }
    },
    "a724bdb13ca4493dbb3502c03ed78547": {
     "model_module": "@jupyter-widgets/controls",
     "model_name": "FloatProgressModel",
     "state": {
      "_dom_classes": [],
      "_model_module": "@jupyter-widgets/controls",
      "_model_module_version": "1.5.0",
      "_model_name": "FloatProgressModel",
      "_view_count": null,
      "_view_module": "@jupyter-widgets/controls",
      "_view_module_version": "1.5.0",
      "_view_name": "ProgressView",
      "bar_style": "success",
      "description": "Downloading: 100%",
      "description_tooltip": null,
      "layout": "IPY_MODEL_cf8d6fe037ff4a6fadd200a09efd9528",
      "max": 433,
      "min": 0,
      "orientation": "horizontal",
      "style": "IPY_MODEL_46548e591a2a4e7c93a6d362998a7492",
      "value": 433
     }
    },
    "a7cc660f08d342eaa11349cb6a846ed1": {
     "model_module": "@jupyter-widgets/controls",
     "model_name": "DescriptionStyleModel",
     "state": {
      "_model_module": "@jupyter-widgets/controls",
      "_model_module_version": "1.5.0",
      "_model_name": "DescriptionStyleModel",
      "_view_count": null,
      "_view_module": "@jupyter-widgets/base",
      "_view_module_version": "1.2.0",
      "_view_name": "StyleView",
      "description_width": ""
     }
    },
    "a87af4d46d074906b7f725cb0b421703": {
     "model_module": "@jupyter-widgets/base",
     "model_name": "LayoutModel",
     "state": {
      "_model_module": "@jupyter-widgets/base",
      "_model_module_version": "1.2.0",
      "_model_name": "LayoutModel",
      "_view_count": null,
      "_view_module": "@jupyter-widgets/base",
      "_view_module_version": "1.2.0",
      "_view_name": "LayoutView",
      "align_content": null,
      "align_items": null,
      "align_self": null,
      "border": null,
      "bottom": null,
      "display": null,
      "flex": null,
      "flex_flow": null,
      "grid_area": null,
      "grid_auto_columns": null,
      "grid_auto_flow": null,
      "grid_auto_rows": null,
      "grid_column": null,
      "grid_gap": null,
      "grid_row": null,
      "grid_template_areas": null,
      "grid_template_columns": null,
      "grid_template_rows": null,
      "height": null,
      "justify_content": null,
      "justify_items": null,
      "left": null,
      "margin": null,
      "max_height": null,
      "max_width": null,
      "min_height": null,
      "min_width": null,
      "object_fit": null,
      "object_position": null,
      "order": null,
      "overflow": null,
      "overflow_x": null,
      "overflow_y": null,
      "padding": null,
      "right": null,
      "top": null,
      "visibility": null,
      "width": null
     }
    },
    "acc2edba3ef9433fb3444e8fb3f89230": {
     "model_module": "@jupyter-widgets/controls",
     "model_name": "HTMLModel",
     "state": {
      "_dom_classes": [],
      "_model_module": "@jupyter-widgets/controls",
      "_model_module_version": "1.5.0",
      "_model_name": "HTMLModel",
      "_view_count": null,
      "_view_module": "@jupyter-widgets/controls",
      "_view_module_version": "1.5.0",
      "_view_name": "HTMLView",
      "description": "",
      "description_tooltip": null,
      "layout": "IPY_MODEL_56e29a23f7e2473595d31b71d095c5ad",
      "placeholder": "​",
      "style": "IPY_MODEL_a7cc660f08d342eaa11349cb6a846ed1",
      "value": " 213k/213k [00:00&lt;00:00, 506kB/s]"
     }
    },
    "b5d47328c315473e9f59312a6040a1e6": {
     "model_module": "@jupyter-widgets/base",
     "model_name": "LayoutModel",
     "state": {
      "_model_module": "@jupyter-widgets/base",
      "_model_module_version": "1.2.0",
      "_model_name": "LayoutModel",
      "_view_count": null,
      "_view_module": "@jupyter-widgets/base",
      "_view_module_version": "1.2.0",
      "_view_name": "LayoutView",
      "align_content": null,
      "align_items": null,
      "align_self": null,
      "border": null,
      "bottom": null,
      "display": null,
      "flex": null,
      "flex_flow": null,
      "grid_area": null,
      "grid_auto_columns": null,
      "grid_auto_flow": null,
      "grid_auto_rows": null,
      "grid_column": null,
      "grid_gap": null,
      "grid_row": null,
      "grid_template_areas": null,
      "grid_template_columns": null,
      "grid_template_rows": null,
      "height": null,
      "justify_content": null,
      "justify_items": null,
      "left": null,
      "margin": null,
      "max_height": null,
      "max_width": null,
      "min_height": null,
      "min_width": null,
      "object_fit": null,
      "object_position": null,
      "order": null,
      "overflow": null,
      "overflow_x": null,
      "overflow_y": null,
      "padding": null,
      "right": null,
      "top": null,
      "visibility": null,
      "width": null
     }
    },
    "b8f50cea40d4476db16534a8338c8e72": {
     "model_module": "@jupyter-widgets/controls",
     "model_name": "HTMLModel",
     "state": {
      "_dom_classes": [],
      "_model_module": "@jupyter-widgets/controls",
      "_model_module_version": "1.5.0",
      "_model_name": "HTMLModel",
      "_view_count": null,
      "_view_module": "@jupyter-widgets/controls",
      "_view_module_version": "1.5.0",
      "_view_name": "HTMLView",
      "description": "",
      "description_tooltip": null,
      "layout": "IPY_MODEL_7bddfdb49adf4f98b61cb8291ebab486",
      "placeholder": "​",
      "style": "IPY_MODEL_cf5fdf07dec04a1c9ee01b2890444618",
      "value": " 436M/436M [08:19&lt;00:00, 873kB/s]"
     }
    },
    "cf5fdf07dec04a1c9ee01b2890444618": {
     "model_module": "@jupyter-widgets/controls",
     "model_name": "DescriptionStyleModel",
     "state": {
      "_model_module": "@jupyter-widgets/controls",
      "_model_module_version": "1.5.0",
      "_model_name": "DescriptionStyleModel",
      "_view_count": null,
      "_view_module": "@jupyter-widgets/base",
      "_view_module_version": "1.2.0",
      "_view_name": "StyleView",
      "description_width": ""
     }
    },
    "cf8d6fe037ff4a6fadd200a09efd9528": {
     "model_module": "@jupyter-widgets/base",
     "model_name": "LayoutModel",
     "state": {
      "_model_module": "@jupyter-widgets/base",
      "_model_module_version": "1.2.0",
      "_model_name": "LayoutModel",
      "_view_count": null,
      "_view_module": "@jupyter-widgets/base",
      "_view_module_version": "1.2.0",
      "_view_name": "LayoutView",
      "align_content": null,
      "align_items": null,
      "align_self": null,
      "border": null,
      "bottom": null,
      "display": null,
      "flex": null,
      "flex_flow": null,
      "grid_area": null,
      "grid_auto_columns": null,
      "grid_auto_flow": null,
      "grid_auto_rows": null,
      "grid_column": null,
      "grid_gap": null,
      "grid_row": null,
      "grid_template_areas": null,
      "grid_template_columns": null,
      "grid_template_rows": null,
      "height": null,
      "justify_content": null,
      "justify_items": null,
      "left": null,
      "margin": null,
      "max_height": null,
      "max_width": null,
      "min_height": null,
      "min_width": null,
      "object_fit": null,
      "object_position": null,
      "order": null,
      "overflow": null,
      "overflow_x": null,
      "overflow_y": null,
      "padding": null,
      "right": null,
      "top": null,
      "visibility": null,
      "width": null
     }
    },
    "dd60d170b58049d8880b7d2cd5bb6a88": {
     "model_module": "@jupyter-widgets/base",
     "model_name": "LayoutModel",
     "state": {
      "_model_module": "@jupyter-widgets/base",
      "_model_module_version": "1.2.0",
      "_model_name": "LayoutModel",
      "_view_count": null,
      "_view_module": "@jupyter-widgets/base",
      "_view_module_version": "1.2.0",
      "_view_name": "LayoutView",
      "align_content": null,
      "align_items": null,
      "align_self": null,
      "border": null,
      "bottom": null,
      "display": null,
      "flex": null,
      "flex_flow": null,
      "grid_area": null,
      "grid_auto_columns": null,
      "grid_auto_flow": null,
      "grid_auto_rows": null,
      "grid_column": null,
      "grid_gap": null,
      "grid_row": null,
      "grid_template_areas": null,
      "grid_template_columns": null,
      "grid_template_rows": null,
      "height": null,
      "justify_content": null,
      "justify_items": null,
      "left": null,
      "margin": null,
      "max_height": null,
      "max_width": null,
      "min_height": null,
      "min_width": null,
      "object_fit": null,
      "object_position": null,
      "order": null,
      "overflow": null,
      "overflow_x": null,
      "overflow_y": null,
      "padding": null,
      "right": null,
      "top": null,
      "visibility": null,
      "width": null
     }
    },
    "f00a20da67c2430d9c932efbfe5d70e8": {
     "model_module": "@jupyter-widgets/controls",
     "model_name": "FloatProgressModel",
     "state": {
      "_dom_classes": [],
      "_model_module": "@jupyter-widgets/controls",
      "_model_module_version": "1.5.0",
      "_model_name": "FloatProgressModel",
      "_view_count": null,
      "_view_module": "@jupyter-widgets/controls",
      "_view_module_version": "1.5.0",
      "_view_name": "ProgressView",
      "bar_style": "success",
      "description": "Downloading: 100%",
      "description_tooltip": null,
      "layout": "IPY_MODEL_dd60d170b58049d8880b7d2cd5bb6a88",
      "max": 435779157,
      "min": 0,
      "orientation": "horizontal",
      "style": "IPY_MODEL_8dc5b53f874b4cef817cf7f62bb3ad68",
      "value": 435779157
     }
    }
   }
  }
 },
 "nbformat": 4,
 "nbformat_minor": 4
}
